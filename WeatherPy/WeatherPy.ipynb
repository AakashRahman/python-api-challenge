{
 "cells": [
  {
   "cell_type": "markdown",
   "metadata": {},
   "source": [
    "# WeatherPy\n",
    "----\n",
    "Background\n",
    "Using Python script to visualize & Analyse the weather of 500+ Cities across the World.\n",
    "And varying their distance from the equator using :\n",
    "CityPy\n",
    "Python library\n",
    "and the OpenWeatherMap API to using API keys.\n",
    "\n",
    "The visualizations includce a series of scatter plots to showcase the following relationships:\n",
    "\n",
    "Temperature (F) vs. Latitude \n",
    "Humidity (%) vs. Latitude \n",
    "Cloudiness (%) vs. Latitude \n",
    "Wind Speed (mph) vs. Latitude\n",
    "\n",
    "Total scripts accomplishes the following:\n",
    "\n",
    "Randomly selects at least 500 unique (non-repeat) cities based on Latitude and Longitude.\n",
    "Performs a weather check on each of the cities using a series of successive API calls.\n",
    "Print the log for the city number and city name.\n",
    "\n",
    "Saves both a CSV of all data retrieved and png images for each scatter plot by title \n",
    "Output_CSV and Output_Plots.\n",
    "\n",
    "Observations:\n",
    "Temperature increases as we approach the equator. However, temperature peaks at around 20 degrees latitude, not exactly at the equatorial line. \n",
    "\n",
    "Cloudiness and humidity do not show a strong correlation to Latitude. \n",
    "The visualizations below show a great variety of values at similar latitudes.\n",
    "\n",
    "Wind speed appears to slightly increase as we move away from the equator. \n",
    "We did examined to make a definitive conclusion."
   ]
  },
  {
   "cell_type": "code",
   "execution_count": 1,
   "metadata": {
    "scrolled": true
   },
   "outputs": [],
   "source": [
    "# Dependencies and Setup\n",
    "import matplotlib.pyplot as plt\n",
    "import pandas as pd\n",
    "import numpy as np\n",
    "import requests\n",
    "import time\n",
    "from pprint import pprint\n",
    "import random as random\n",
    "import json\n",
    "from scipy.stats import linregress\n",
    "\n",
    "# Import API key\n",
    "from api_keys import weather_api_key\n",
    "\n",
    "# Incorporated citipy to determine city based on latitude and longitude\n",
    "from citipy import citipy\n",
    "#pip install citipy\n"
   ]
  },
  {
   "cell_type": "code",
   "execution_count": 2,
   "metadata": {},
   "outputs": [],
   "source": [
    "# Output File (CSV)\n",
    "output_data_file = \"output_data/cities.csv\"\n",
    "\n",
    "# Range of latitudes and longitudes\n",
    "lat_range = (-90, 90)\n",
    "lng_range = (-180, 180)"
   ]
  },
  {
   "cell_type": "markdown",
   "metadata": {},
   "source": [
    "## Generate Cities List"
   ]
  },
  {
   "cell_type": "code",
   "execution_count": 3,
   "metadata": {},
   "outputs": [
    {
     "data": {
      "text/plain": [
       "605"
      ]
     },
     "execution_count": 3,
     "metadata": {},
     "output_type": "execute_result"
    }
   ],
   "source": [
    "# List for holding lat_lngs and cities\n",
    "lat_lngs = []\n",
    "cities = []\n",
    "\n",
    "# Create a set of random lat and lng combinations\n",
    "lats = np.random.uniform(lat_range[0], lat_range[1], size=1500)\n",
    "lngs = np.random.uniform(lng_range[0], lng_range[1], size=1500)\n",
    "lat_lngs = zip(lats, lngs)\n",
    "\n",
    "# Identify nearest city for each lat, lng combination\n",
    "for lat_lng in lat_lngs:\n",
    "    city = citipy.nearest_city(lat_lng[0], lat_lng[1]).city_name\n",
    "    \n",
    "    # If the city is unique, then add it to a our cities list\n",
    "    if city not in cities:\n",
    "        cities.append(city)\n",
    "\n",
    "# Print the city count to confirm sufficient count\n",
    "len(cities)"
   ]
  },
  {
   "cell_type": "markdown",
   "metadata": {},
   "source": [
    "### Perform API Calls\n",
    "* Perform a weather check on each city using a series of successive API calls.\n",
    "* Include a print log of each city as it'sbeing processed (with the city number and city name).\n"
   ]
  },
  {
   "cell_type": "code",
   "execution_count": 4,
   "metadata": {},
   "outputs": [
    {
     "name": "stdout",
     "output_type": "stream",
     "text": [
      "http://api.openweathermap.org/data/2.5/weather?q=bredasdorp&appid=ec54fc6bb03e05fe285a0f5bfedcf3da\n"
     ]
    }
   ],
   "source": [
    "#get url\n",
    "url = f\"http://api.openweathermap.org/data/2.5/weather?q={city}&appid={weather_api_key}\"\n",
    "print(url)\n"
   ]
  },
  {
   "cell_type": "markdown",
   "metadata": {},
   "source": [
    "### Convert Raw Data to DataFrame\n",
    "* Export the city data into a .csv.\n",
    "* Display the DataFrame"
   ]
  },
  {
   "cell_type": "code",
   "execution_count": 5,
   "metadata": {},
   "outputs": [
    {
     "name": "stdout",
     "output_type": "stream",
     "text": [
      "Beginning Data Retrieval\n",
      "-------------------------------\n",
      "Processing record 1 | atuona\n",
      "Processing record 2 | bintulu\n",
      "Processing record 3 | ushuaia\n",
      "Processing record 4 | sinnamary\n",
      "Processing record 5 | longyearbyen\n",
      "Processing record 6 | kidal\n",
      "Processing record 7 | novyy urengoy\n",
      "Processing record 8 | ulaangom\n",
      "Processing record 9 | ahipara\n",
      "Processing record 10 | rikitea\n",
      "Processing record 11 | east london\n",
      "Processing record 12 | qaanaaq\n",
      "Processing record 13 | mar del plata\n",
      "Processing record 14 | erzurum\n",
      "Processing record 15 | albany\n",
      "Processing record 16 | turtas\n",
      "Processing record 17 | carnarvon\n",
      "Processing record 18 | grindavik\n",
      "Processing record 19 | la ronge\n",
      "Processing record 20 | ozubulu\n",
      "City not found.....\n",
      "Processing record 21 | hobyo\n",
      "Processing record 22 | dikson\n",
      "Processing record 23 | fortuna\n",
      "Processing record 24 | tansen\n",
      "Processing record 25 | hilo\n",
      "Processing record 26 | ponta do sol\n",
      "Processing record 27 | hithadhoo\n",
      "Processing record 28 | iqaluit\n",
      "Processing record 29 | punta arenas\n",
      "Processing record 30 | luderitz\n",
      "Processing record 31 | mitsamiouli\n",
      "Processing record 32 | vaini\n",
      "Processing record 33 | khatanga\n",
      "Processing record 34 | paamiut\n",
      "Processing record 35 | provideniya\n",
      "City not found.....\n",
      "Processing record 36 | castro\n",
      "City not found.....\n",
      "Processing record 37 | hegang\n",
      "City not found.....\n",
      "Processing record 38 | avarua\n",
      "Processing record 39 | kapaa\n",
      "Processing record 40 | bluff\n",
      "Processing record 41 | xucheng\n",
      "Processing record 42 | shenjiamen\n",
      "Processing record 43 | bredasdorp\n",
      "Processing record 44 | hailun\n",
      "Processing record 45 | carmo do rio verde\n",
      "Processing record 46 | victoria\n",
      "Processing record 47 | port alfred\n",
      "Processing record 48 | hasaki\n",
      "Processing record 49 | yangjiang\n",
      "Processing record 50 | severo-kurilsk\n",
      "Processing record 51 | ambovombe\n",
      "Processing record 52 | wonthaggi\n",
      "Processing record 53 | hermanus\n",
      "Processing record 54 | carutapera\n",
      "Processing record 55 | baker city\n",
      "Processing record 56 | vila franca do campo\n",
      "Processing record 57 | pershotravneve\n",
      "Processing record 58 | high rock\n",
      "City not found.....\n",
      "Processing record 59 | yellowknife\n",
      "Processing record 60 | ontario\n",
      "Processing record 61 | avera\n",
      "Processing record 62 | itaituba\n",
      "Processing record 63 | talnakh\n",
      "Processing record 64 | cabo san lucas\n",
      "Processing record 65 | port shepstone\n",
      "Processing record 66 | new norfolk\n",
      "Processing record 67 | riyadh\n",
      "Processing record 68 | klaksvik\n",
      "Processing record 69 | san patricio\n",
      "Processing record 70 | kodiak\n",
      "Processing record 71 | shakawe\n",
      "Processing record 72 | wajir\n",
      "Processing record 73 | ribeira grande\n",
      "Processing record 74 | ramhormoz\n",
      "Processing record 75 | san quintin\n",
      "Processing record 76 | jamestown\n",
      "Processing record 77 | saint anthony\n",
      "City not found.....\n",
      "City not found.....\n",
      "Processing record 78 | jalu\n",
      "Processing record 79 | hastings\n",
      "Processing record 80 | tokur\n",
      "Processing record 81 | souillac\n",
      "Processing record 82 | barrow\n",
      "Processing record 83 | trincomalee\n",
      "Processing record 84 | bowen\n",
      "Processing record 85 | vanavara\n",
      "Processing record 86 | puerto ayora\n",
      "Processing record 87 | brokopondo\n",
      "Processing record 88 | bose\n",
      "Processing record 89 | srednekolymsk\n",
      "Processing record 90 | mataura\n",
      "Processing record 91 | tasiilaq\n",
      "Processing record 92 | maryville\n",
      "Processing record 93 | busselton\n",
      "Processing record 94 | yaan\n",
      "Processing record 95 | cape town\n",
      "Processing record 96 | luanda\n",
      "City not found.....\n",
      "Processing record 97 | guiratinga\n",
      "City not found.....\n",
      "Processing record 98 | goya\n",
      "Processing record 99 | clyde river\n",
      "Processing record 100 | yar-sale\n",
      "Processing record 101 | cidreira\n",
      "Processing record 102 | sneek\n",
      "Processing record 103 | alegrete\n",
      "Processing record 104 | faya\n",
      "Processing record 105 | taltal\n",
      "Processing record 106 | kiruna\n",
      "Processing record 107 | inverell\n",
      "Processing record 108 | rodrigues alves\n",
      "Processing record 109 | sao joao da barra\n",
      "Processing record 110 | ust-uda\n",
      "Processing record 111 | valdivia\n",
      "Processing record 112 | sovetskaya gavan\n",
      "Processing record 113 | cherskiy\n",
      "Processing record 114 | norman wells\n",
      "Processing record 115 | saint george\n",
      "Processing record 116 | markivka\n",
      "Processing record 117 | meulaboh\n",
      "Processing record 118 | tuatapere\n",
      "Processing record 119 | poronaysk\n",
      "Processing record 120 | pisco\n",
      "Processing record 121 | son la\n",
      "Processing record 122 | esperance\n",
      "Processing record 123 | hobart\n",
      "Processing record 124 | nampula\n",
      "Processing record 125 | coquimbo\n",
      "Processing record 126 | hofn\n",
      "Processing record 127 | te anau\n",
      "Processing record 128 | bend\n",
      "Processing record 129 | naze\n",
      "Processing record 130 | sechura\n",
      "Processing record 131 | malanje\n",
      "Processing record 132 | namie\n",
      "Processing record 133 | lompoc\n",
      "City not found.....\n",
      "Processing record 134 | superior\n",
      "Processing record 135 | van\n",
      "Processing record 136 | faanui\n",
      "Processing record 137 | salta\n",
      "Processing record 138 | jalpaiguri\n",
      "Processing record 139 | xai-xai\n",
      "City not found.....\n",
      "Processing record 140 | vanimo\n",
      "Processing record 141 | kaitangata\n",
      "City not found.....\n",
      "Processing record 142 | lima\n",
      "Processing record 143 | zaysan\n",
      "Processing record 144 | buraydah\n",
      "Processing record 145 | chulym\n",
      "City not found.....\n",
      "Processing record 146 | saskylakh\n",
      "Processing record 147 | zheleznodorozhnyy\n",
      "City not found.....\n",
      "Processing record 148 | sitka\n",
      "Processing record 149 | tres arroyos\n",
      "City not found.....\n",
      "Processing record 150 | narsaq\n",
      "Processing record 151 | evensk\n",
      "Processing record 152 | tankara\n",
      "Processing record 153 | otukpo\n",
      "Processing record 154 | port moresby\n",
      "Processing record 155 | san policarpo\n",
      "Processing record 156 | ostrovnoy\n",
      "Processing record 157 | batticaloa\n",
      "Processing record 158 | port elizabeth\n",
      "Processing record 159 | lumeje\n",
      "Processing record 160 | jiamusi\n",
      "Processing record 161 | tessalit\n",
      "Processing record 162 | anadyr\n",
      "Processing record 163 | muros\n",
      "Processing record 164 | tabou\n",
      "Processing record 165 | nanortalik\n",
      "Processing record 166 | butaritari\n",
      "Processing record 167 | nanakuli\n",
      "Processing record 168 | mahebourg\n",
      "Processing record 169 | airai\n",
      "Processing record 170 | baykalovo\n",
      "Processing record 171 | ialibu\n",
      "Processing record 172 | torbay\n",
      "Processing record 173 | toowoomba\n",
      "Processing record 174 | aksha\n",
      "Processing record 175 | mae hong son\n",
      "Processing record 176 | chokurdakh\n",
      "Processing record 177 | nikolskoye\n",
      "City not found.....\n",
      "Processing record 178 | tuktoyaktuk\n",
      "Processing record 179 | kapoeta\n",
      "Processing record 180 | ossora\n",
      "Processing record 181 | lobatse\n",
      "Processing record 182 | ciudad bolivar\n",
      "Processing record 183 | nerchinskiy zavod\n",
      "Processing record 184 | cascais\n",
      "City not found.....\n",
      "Processing record 185 | saldanha\n",
      "Processing record 186 | bathsheba\n",
      "Processing record 187 | bilibino\n",
      "Processing record 188 | segou\n",
      "Processing record 189 | thompson\n",
      "Processing record 190 | tobetsu\n",
      "Processing record 191 | quelimane\n",
      "Processing record 192 | victor harbor\n",
      "Processing record 193 | moron\n",
      "Processing record 194 | gondar\n",
      "Processing record 195 | ratnapura\n",
      "Processing record 196 | colares\n",
      "Processing record 197 | illapel\n",
      "Processing record 198 | iwata\n",
      "Processing record 199 | masindi\n",
      "Processing record 200 | saint-philippe\n",
      "Processing record 201 | morro bay\n",
      "Processing record 202 | mandalgovi\n",
      "Processing record 203 | boa vista\n",
      "Processing record 204 | thinadhoo\n",
      "Processing record 205 | columbia\n",
      "Processing record 206 | champoton\n",
      "Processing record 207 | shache\n",
      "Processing record 208 | vigrestad\n",
      "City not found.....\n",
      "Processing record 209 | durango\n",
      "Processing record 210 | rongcheng\n",
      "Processing record 211 | rio gallegos\n",
      "Processing record 212 | kuzhener\n",
      "Processing record 213 | udachnyy\n",
      "City not found.....\n",
      "Processing record 214 | balad\n",
      "Processing record 215 | itoman\n",
      "City not found.....\n",
      "City not found.....\n",
      "Processing record 216 | flinders\n",
      "Processing record 217 | krasnoselkup\n",
      "Processing record 218 | burla\n",
      "Processing record 219 | baykit\n",
      "Processing record 220 | kharp\n",
      "Processing record 221 | aqtobe\n",
      "Processing record 222 | kruisfontein\n",
      "City not found.....\n",
      "Processing record 223 | maningrida\n",
      "Processing record 224 | lebu\n",
      "Processing record 225 | pevek\n",
      "Processing record 226 | rantepao\n",
      "Processing record 227 | gambela\n",
      "City not found.....\n",
      "Processing record 228 | itupiranga\n",
      "Processing record 229 | sao filipe\n",
      "Processing record 230 | ilo\n",
      "Processing record 231 | tigil\n",
      "Processing record 232 | labuhan\n",
      "Processing record 233 | wad madani\n",
      "Processing record 234 | georgetown\n",
      "Processing record 235 | bonthe\n",
      "Processing record 236 | deputatskiy\n",
      "Processing record 237 | yenagoa\n"
     ]
    },
    {
     "name": "stdout",
     "output_type": "stream",
     "text": [
      "Processing record 238 | bud\n",
      "City not found.....\n",
      "City not found.....\n",
      "Processing record 239 | yulara\n",
      "Processing record 240 | bahia de caraquez\n",
      "Processing record 241 | daitari\n",
      "Processing record 242 | ilulissat\n",
      "Processing record 243 | nouadhibou\n",
      "Processing record 244 | dubuque\n",
      "Processing record 245 | petropavlovsk-kamchatskiy\n",
      "Processing record 246 | aksu\n",
      "Processing record 247 | sept-iles\n",
      "Processing record 248 | kavieng\n",
      "Processing record 249 | khuzhir\n",
      "Processing record 250 | olafsvik\n",
      "Processing record 251 | lahaina\n",
      "City not found.....\n",
      "Processing record 252 | kirchheim\n",
      "Processing record 253 | salalah\n",
      "Processing record 254 | zhicheng\n",
      "Processing record 255 | kailua\n",
      "Processing record 256 | sistranda\n",
      "Processing record 257 | bandundu\n",
      "Processing record 258 | shahr-e babak\n",
      "Processing record 259 | sovetskiy\n",
      "Processing record 260 | usvyaty\n",
      "City not found.....\n",
      "Processing record 261 | zhigansk\n",
      "Processing record 262 | arraial do cabo\n",
      "Processing record 263 | montepuez\n",
      "Processing record 264 | iskateley\n",
      "Processing record 265 | callaguip\n",
      "Processing record 266 | talcahuano\n",
      "City not found.....\n",
      "Processing record 267 | lubang\n",
      "Processing record 268 | saint-augustin\n",
      "Processing record 269 | sao felix do xingu\n",
      "Processing record 270 | laguna\n",
      "Processing record 271 | jinchang\n",
      "Processing record 272 | cayenne\n",
      "Processing record 273 | saint-pierre\n",
      "Processing record 274 | touros\n",
      "Processing record 275 | camargo\n",
      "City not found.....\n",
      "Processing record 276 | micheweni\n",
      "Processing record 277 | ostrowiec swietokrzyski\n",
      "Processing record 278 | mbandaka\n",
      "Processing record 279 | carballo\n",
      "Processing record 280 | eten\n",
      "Processing record 281 | nelson bay\n",
      "Processing record 282 | muyezerskiy\n",
      "City not found.....\n",
      "Processing record 283 | rushden\n",
      "Processing record 284 | husavik\n",
      "Processing record 285 | champerico\n",
      "Processing record 286 | mount isa\n",
      "Processing record 287 | caconda\n",
      "Processing record 288 | aljezur\n",
      "Processing record 289 | opuwo\n",
      "Processing record 290 | seymchan\n",
      "Processing record 291 | bethel\n",
      "Processing record 292 | cururupu\n",
      "Processing record 293 | acapulco\n",
      "Processing record 294 | ranong\n",
      "Processing record 295 | bengkulu\n",
      "Processing record 296 | ancud\n",
      "Processing record 297 | morros\n",
      "City not found.....\n",
      "Processing record 298 | port hedland\n",
      "Processing record 299 | haines junction\n",
      "Processing record 300 | praxedis guerrero\n",
      "Processing record 301 | maua\n",
      "Processing record 302 | upernavik\n",
      "Processing record 303 | ambilobe\n",
      "Processing record 304 | maraa\n",
      "Processing record 305 | rocha\n",
      "Processing record 306 | kulim\n",
      "Processing record 307 | lincoln\n",
      "Processing record 308 | durazno\n",
      "Processing record 309 | smolenka\n",
      "Processing record 310 | egvekinot\n",
      "Processing record 311 | czersk\n",
      "Processing record 312 | sudbury\n",
      "Processing record 313 | rauma\n",
      "Processing record 314 | matviyivka\n",
      "Processing record 315 | kununurra\n",
      "Processing record 316 | erenhot\n",
      "Processing record 317 | vorotynets\n",
      "Processing record 318 | chantada\n",
      "Processing record 319 | presidencia roque saenz pena\n",
      "Processing record 320 | puerto escondido\n",
      "Processing record 321 | karratha\n",
      "Processing record 322 | buin\n",
      "Processing record 323 | malartic\n",
      "Processing record 324 | coihaique\n",
      "Processing record 325 | byron bay\n",
      "City not found.....\n",
      "Processing record 326 | perth\n",
      "Processing record 327 | mersing\n",
      "Processing record 328 | shimoda\n",
      "Processing record 329 | arlit\n",
      "Processing record 330 | moose factory\n",
      "Processing record 331 | birin\n",
      "City not found.....\n",
      "Processing record 332 | santa cruz\n",
      "Processing record 333 | pacific grove\n",
      "Processing record 334 | lasa\n",
      "Processing record 335 | rosario\n",
      "Processing record 336 | beyneu\n",
      "Processing record 337 | mount gambier\n",
      "Processing record 338 | vaitape\n",
      "Processing record 339 | johnson city\n",
      "Processing record 340 | yumbel\n",
      "Processing record 341 | pinawa\n",
      "Processing record 342 | tura\n",
      "Processing record 343 | agde\n",
      "Processing record 344 | bambous virieux\n",
      "City not found.....\n",
      "Processing record 345 | marawi\n",
      "Processing record 346 | maniitsoq\n",
      "Processing record 347 | sault sainte marie\n",
      "Processing record 348 | kloulklubed\n",
      "Processing record 349 | sabang\n",
      "Processing record 350 | manavalakurichi\n",
      "Processing record 351 | katsuura\n",
      "City not found.....\n",
      "Processing record 352 | lianzhou\n",
      "Processing record 353 | mweka\n",
      "Processing record 354 | inhambane\n",
      "Processing record 355 | grand gaube\n",
      "Processing record 356 | lagoa\n",
      "Processing record 357 | mazatlan\n",
      "Processing record 358 | saint-leu\n",
      "City not found.....\n",
      "Processing record 359 | nichinan\n",
      "Processing record 360 | ginir\n",
      "Processing record 361 | hovd\n",
      "Processing record 362 | rudbar\n",
      "Processing record 363 | solnechnyy\n",
      "Processing record 364 | chara\n",
      "Processing record 365 | leningradskiy\n",
      "Processing record 366 | taveta\n",
      "Processing record 367 | susanville\n",
      "Processing record 368 | cuajinicuilapa\n",
      "Processing record 369 | roald\n",
      "Processing record 370 | ust-kut\n",
      "Processing record 371 | kitui\n",
      "Processing record 372 | iracoubo\n",
      "Processing record 373 | morondava\n",
      "Processing record 374 | gat\n",
      "Processing record 375 | kamenka\n",
      "Processing record 376 | abu samrah\n",
      "Processing record 377 | hwange\n",
      "Processing record 378 | sorland\n",
      "Processing record 379 | samarai\n",
      "Processing record 380 | florence\n",
      "Processing record 381 | sola\n",
      "Processing record 382 | olupona\n",
      "City not found.....\n",
      "Processing record 383 | sioux lookout\n",
      "Processing record 384 | pringsewu\n",
      "Processing record 385 | brae\n",
      "Processing record 386 | itarema\n",
      "Processing record 387 | asenovgrad\n",
      "Processing record 388 | rawson\n",
      "Processing record 389 | san cristobal\n",
      "Processing record 390 | abha\n",
      "Processing record 391 | alofi\n",
      "Processing record 392 | vestmannaeyjar\n",
      "Processing record 393 | diffa\n",
      "Processing record 394 | berlevag\n",
      "Processing record 395 | marquette\n",
      "Processing record 396 | chlorakas\n",
      "Processing record 397 | ixtapa\n",
      "Processing record 398 | yarmouth\n",
      "Processing record 399 | san joaquin\n",
      "Processing record 400 | cremona\n",
      "Processing record 401 | uray\n",
      "Processing record 402 | cauquenes\n",
      "Processing record 403 | port hardy\n",
      "Processing record 404 | puerto quijarro\n",
      "Processing record 405 | oriximina\n",
      "Processing record 406 | puerto del rosario\n",
      "Processing record 407 | sibolga\n",
      "Processing record 408 | zabol\n",
      "Processing record 409 | hun\n",
      "Processing record 410 | tiksi\n",
      "Processing record 411 | constitucion\n",
      "Processing record 412 | outjo\n",
      "Processing record 413 | port augusta\n",
      "Processing record 414 | male\n",
      "City not found.....\n",
      "Processing record 415 | minbu\n",
      "Processing record 416 | chake chake\n",
      "Processing record 417 | tambovka\n",
      "Processing record 418 | christchurch\n",
      "Processing record 419 | seabra\n",
      "Processing record 420 | khudumelapye\n",
      "Processing record 421 | karwar\n",
      "Processing record 422 | buta\n",
      "Processing record 423 | careiro da varzea\n",
      "Processing record 424 | xining\n",
      "Processing record 425 | richards bay\n",
      "Processing record 426 | padang\n",
      "Processing record 427 | gurupi\n",
      "Processing record 428 | arman\n",
      "Processing record 429 | walvis bay\n",
      "Processing record 430 | moerai\n",
      "Processing record 431 | awjilah\n",
      "Processing record 432 | ballina\n",
      "Processing record 433 | volterra\n",
      "Processing record 434 | abonnema\n",
      "Processing record 435 | comodoro rivadavia\n",
      "Processing record 436 | mangrol\n",
      "Processing record 437 | dhidhdhoo\n",
      "Processing record 438 | omura\n",
      "Processing record 439 | gore\n",
      "Processing record 440 | okhotsk\n",
      "Processing record 441 | monkey bay\n",
      "Processing record 442 | broome\n",
      "Processing record 443 | mareeba\n",
      "Processing record 444 | praia\n",
      "Processing record 445 | gerede\n",
      "Processing record 446 | mehran\n",
      "Processing record 447 | gola bazar\n",
      "Processing record 448 | fare\n",
      "Processing record 449 | kibala\n",
      "Processing record 450 | puerto leguizamo\n",
      "Processing record 451 | gazanjyk\n",
      "Processing record 452 | coracora\n",
      "Processing record 453 | teguldet\n",
      "Processing record 454 | tecoanapa\n",
      "Processing record 455 | amapa\n",
      "Processing record 456 | lata\n",
      "Processing record 457 | lavrentiya\n",
      "Processing record 458 | vitoria\n",
      "Processing record 459 | adre\n",
      "Processing record 460 | warri\n",
      "Processing record 461 | tucuma\n",
      "Processing record 462 | kambove\n",
      "Processing record 463 | fairbanks\n",
      "Processing record 464 | namibe\n",
      "Processing record 465 | sete lagoas\n",
      "City not found.....\n",
      "Processing record 466 | gimli\n",
      "Processing record 467 | batelov\n",
      "Processing record 468 | paciran\n",
      "Processing record 469 | portland\n",
      "Processing record 470 | wuwei\n",
      "Processing record 471 | wajid\n",
      "Processing record 472 | port macquarie\n",
      "Processing record 473 | novo horizonte\n",
      "Processing record 474 | westport\n",
      "Processing record 475 | saint-denis\n"
     ]
    },
    {
     "name": "stdout",
     "output_type": "stream",
     "text": [
      "Processing record 476 | biltine\n",
      "Processing record 477 | port lincoln\n",
      "Processing record 478 | arenapolis\n",
      "Processing record 479 | kijang\n",
      "Processing record 480 | waitara\n",
      "Processing record 481 | plettenberg bay\n",
      "Processing record 482 | bac lieu\n",
      "Processing record 483 | piacabucu\n",
      "City not found.....\n",
      "Processing record 484 | dunedin\n",
      "Processing record 485 | caravelas\n",
      "Processing record 486 | coffs harbour\n",
      "Processing record 487 | chuy\n",
      "Processing record 488 | yukhnov\n",
      "Processing record 489 | ketchikan\n",
      "Processing record 490 | santa isabel do rio negro\n",
      "City not found.....\n",
      "Processing record 491 | henties bay\n",
      "Processing record 492 | awbari\n",
      "Processing record 493 | san pedro\n",
      "Processing record 494 | boueni\n",
      "Processing record 495 | mehamn\n",
      "Processing record 496 | carupano\n",
      "Processing record 497 | gao\n",
      "City not found.....\n",
      "Processing record 498 | panguna\n",
      "Processing record 499 | ola\n",
      "Processing record 500 | morgantown\n",
      "Processing record 501 | deer lake\n",
      "Processing record 502 | atar\n",
      "Processing record 503 | port blair\n",
      "Processing record 504 | vardo\n",
      "Processing record 505 | kitimat\n",
      "Processing record 506 | codrington\n",
      "City not found.....\n",
      "Processing record 507 | mayo\n",
      "Processing record 508 | cairns\n",
      "Processing record 509 | chapleau\n",
      "Processing record 510 | nemuro\n",
      "Processing record 511 | puerto baquerizo moreno\n",
      "Processing record 512 | scottsbluff\n",
      "Processing record 513 | acarau\n",
      "Processing record 514 | svetlaya\n",
      "Processing record 515 | rossano\n",
      "Processing record 516 | quatre cocos\n",
      "Processing record 517 | robertsport\n",
      "Processing record 518 | soyo\n",
      "Processing record 519 | hami\n",
      "Processing record 520 | mackay\n",
      "Processing record 521 | visconde do rio branco\n",
      "Processing record 522 | najran\n",
      "Processing record 523 | stornoway\n",
      "Processing record 524 | bourail\n",
      "Processing record 525 | grande prairie\n",
      "Processing record 526 | beringovskiy\n",
      "Processing record 527 | aberdeen\n",
      "City not found.....\n",
      "Processing record 528 | takaka\n",
      "Processing record 529 | ambon\n",
      "Processing record 530 | daura\n",
      "Processing record 531 | manono\n",
      "Processing record 532 | george\n",
      "Processing record 533 | mao\n",
      "Processing record 534 | lorengau\n",
      "Processing record 535 | wukari\n",
      "Processing record 536 | broken hill\n",
      "Processing record 537 | izhma\n",
      "Processing record 538 | korop\n",
      "Processing record 539 | whitehorse\n",
      "Processing record 540 | reinosa\n",
      "Processing record 541 | luwuk\n",
      "Processing record 542 | vilhena\n",
      "City not found.....\n",
      "Processing record 543 | bosaso\n",
      "Processing record 544 | sulangan\n",
      "Processing record 545 | cedro\n",
      "Processing record 546 | huilong\n",
      "City not found.....\n",
      "Processing record 547 | vao\n",
      "Processing record 548 | paraiso\n",
      "Processing record 549 | moa\n",
      "Processing record 550 | joshimath\n",
      "Processing record 551 | eyl\n",
      "Processing record 552 | newton\n",
      "Processing record 553 | jiangyou\n",
      "Processing record 554 | townsville\n",
      "Processing record 555 | goderich\n",
      "Processing record 556 | yugorsk\n",
      "Processing record 557 | labateca\n",
      "Processing record 558 | quepos\n",
      "Processing record 559 | massena\n"
     ]
    }
   ],
   "source": [
    "#Create a empty list to append data inti list\n",
    "City_Name=[]\n",
    "Lat=[]\n",
    "Lng=[]\n",
    "Max_Temp=[]\n",
    "Humidity=[]\n",
    "Cloudiness=[]\n",
    "Wind_Speed=[]\n",
    "Country=[]\n",
    "Date=[]\n",
    "\n",
    "# Data file print statement as it is\n",
    "print(f\"Beginning Data Retrieval\")\n",
    "print(f\"-------------------------------\")\n",
    "\n",
    "#Declare a record\n",
    "record=1\n",
    "\n",
    "#Use for loop through Cities in city list\n",
    "for city in cities:\n",
    "    try:\n",
    "        url = f\"http://api.openweathermap.org/data/2.5/weather?q={city}&appid={weather_api_key}\"\n",
    "        response=requests.get(url).json()\n",
    "        City_Name.append(response[\"name\"])\n",
    "        Lat.append(response[\"coord\"][\"lat\"])\n",
    "        Lng.append(response[\"coord\"][\"lon\"])\n",
    "        Max_Temp.append(response[\"main\"][\"temp_max\"])\n",
    "        Humidity.append(response[\"main\"][\"humidity\"])\n",
    "        Cloudiness.append(response[\"clouds\"][\"all\"])\n",
    "        Wind_Speed.append(response[\"wind\"][\"speed\"])\n",
    "        Country.append(response[\"sys\"][\"country\"])\n",
    "        Date.append(response[\"dt\"])\n",
    "        print(f\"Processing record {record} | {city}\")\n",
    "        record=record + 1\n",
    "    except Exception:\n",
    "        print(\"City not found.....\")\n",
    "    \n",
    "    continue\n",
    "\n"
   ]
  },
  {
   "cell_type": "code",
   "execution_count": 6,
   "metadata": {
    "scrolled": true
   },
   "outputs": [
    {
     "data": {
      "text/plain": [
       "City          559\n",
       "Lat           559\n",
       "Lng           559\n",
       "Max Temp      559\n",
       "Humidity      559\n",
       "Cloudiness    559\n",
       "Wind Speed    559\n",
       "Country       559\n",
       "Date          559\n",
       "dtype: int64"
      ]
     },
     "execution_count": 6,
     "metadata": {},
     "output_type": "execute_result"
    }
   ],
   "source": [
    "#Create DataFrame for Weather Data\n",
    "City_Weather_df=pd.DataFrame({\n",
    "    \"City\":City_Name,\n",
    "    \"Lat\" : Lat,\n",
    "    \"Lng\": Lng,\n",
    "    \"Max Temp\" : Max_Temp,\n",
    "    \"Humidity\" :  Humidity,\n",
    "    \"Cloudiness\" : Cloudiness,\n",
    "    \"Wind Speed\" : Wind_Speed,\n",
    "    \"Country\" : Country,\n",
    "    \"Date\" : Date\n",
    "})\n",
    "City_Weather_df.count()\n"
   ]
  },
  {
   "cell_type": "code",
   "execution_count": 7,
   "metadata": {},
   "outputs": [
    {
     "data": {
      "text/html": [
       "<div>\n",
       "<style scoped>\n",
       "    .dataframe tbody tr th:only-of-type {\n",
       "        vertical-align: middle;\n",
       "    }\n",
       "\n",
       "    .dataframe tbody tr th {\n",
       "        vertical-align: top;\n",
       "    }\n",
       "\n",
       "    .dataframe thead th {\n",
       "        text-align: right;\n",
       "    }\n",
       "</style>\n",
       "<table border=\"1\" class=\"dataframe\">\n",
       "  <thead>\n",
       "    <tr style=\"text-align: right;\">\n",
       "      <th></th>\n",
       "      <th>City</th>\n",
       "      <th>Lat</th>\n",
       "      <th>Lng</th>\n",
       "      <th>Max Temp</th>\n",
       "      <th>Humidity</th>\n",
       "      <th>Cloudiness</th>\n",
       "      <th>Wind Speed</th>\n",
       "      <th>Country</th>\n",
       "      <th>Date</th>\n",
       "    </tr>\n",
       "  </thead>\n",
       "  <tbody>\n",
       "    <tr>\n",
       "      <th>0</th>\n",
       "      <td>Atuona</td>\n",
       "      <td>-9.80</td>\n",
       "      <td>-139.03</td>\n",
       "      <td>299.55</td>\n",
       "      <td>78</td>\n",
       "      <td>5</td>\n",
       "      <td>7.89</td>\n",
       "      <td>PF</td>\n",
       "      <td>1595094277</td>\n",
       "    </tr>\n",
       "    <tr>\n",
       "      <th>1</th>\n",
       "      <td>Bintulu</td>\n",
       "      <td>3.17</td>\n",
       "      <td>113.03</td>\n",
       "      <td>299.15</td>\n",
       "      <td>94</td>\n",
       "      <td>20</td>\n",
       "      <td>1.50</td>\n",
       "      <td>MY</td>\n",
       "      <td>1595094277</td>\n",
       "    </tr>\n",
       "    <tr>\n",
       "      <th>2</th>\n",
       "      <td>Ushuaia</td>\n",
       "      <td>-54.80</td>\n",
       "      <td>-68.30</td>\n",
       "      <td>273.15</td>\n",
       "      <td>93</td>\n",
       "      <td>75</td>\n",
       "      <td>2.10</td>\n",
       "      <td>AR</td>\n",
       "      <td>1595094153</td>\n",
       "    </tr>\n",
       "    <tr>\n",
       "      <th>3</th>\n",
       "      <td>Sinnamary</td>\n",
       "      <td>5.38</td>\n",
       "      <td>-52.95</td>\n",
       "      <td>301.68</td>\n",
       "      <td>77</td>\n",
       "      <td>22</td>\n",
       "      <td>4.69</td>\n",
       "      <td>GF</td>\n",
       "      <td>1595094277</td>\n",
       "    </tr>\n",
       "    <tr>\n",
       "      <th>4</th>\n",
       "      <td>Longyearbyen</td>\n",
       "      <td>78.22</td>\n",
       "      <td>15.64</td>\n",
       "      <td>283.15</td>\n",
       "      <td>61</td>\n",
       "      <td>75</td>\n",
       "      <td>7.20</td>\n",
       "      <td>SJ</td>\n",
       "      <td>1595094121</td>\n",
       "    </tr>\n",
       "  </tbody>\n",
       "</table>\n",
       "</div>"
      ],
      "text/plain": [
       "           City    Lat     Lng  Max Temp  Humidity  Cloudiness  Wind Speed  \\\n",
       "0        Atuona  -9.80 -139.03    299.55        78           5        7.89   \n",
       "1       Bintulu   3.17  113.03    299.15        94          20        1.50   \n",
       "2       Ushuaia -54.80  -68.30    273.15        93          75        2.10   \n",
       "3     Sinnamary   5.38  -52.95    301.68        77          22        4.69   \n",
       "4  Longyearbyen  78.22   15.64    283.15        61          75        7.20   \n",
       "\n",
       "  Country        Date  \n",
       "0      PF  1595094277  \n",
       "1      MY  1595094277  \n",
       "2      AR  1595094153  \n",
       "3      GF  1595094277  \n",
       "4      SJ  1595094121  "
      ]
     },
     "execution_count": 7,
     "metadata": {},
     "output_type": "execute_result"
    }
   ],
   "source": [
    "#To Show the DataFrame with Temp format is Kelvin\n",
    "City_Weather_df.head()"
   ]
  },
  {
   "cell_type": "code",
   "execution_count": 8,
   "metadata": {},
   "outputs": [
    {
     "data": {
      "text/html": [
       "<div>\n",
       "<style scoped>\n",
       "    .dataframe tbody tr th:only-of-type {\n",
       "        vertical-align: middle;\n",
       "    }\n",
       "\n",
       "    .dataframe tbody tr th {\n",
       "        vertical-align: top;\n",
       "    }\n",
       "\n",
       "    .dataframe thead th {\n",
       "        text-align: right;\n",
       "    }\n",
       "</style>\n",
       "<table border=\"1\" class=\"dataframe\">\n",
       "  <thead>\n",
       "    <tr style=\"text-align: right;\">\n",
       "      <th></th>\n",
       "      <th>City</th>\n",
       "      <th>Lat</th>\n",
       "      <th>Lng</th>\n",
       "      <th>Max Temp</th>\n",
       "      <th>Humidity</th>\n",
       "      <th>Cloudiness</th>\n",
       "      <th>Wind Speed</th>\n",
       "      <th>Country</th>\n",
       "      <th>Date</th>\n",
       "    </tr>\n",
       "  </thead>\n",
       "  <tbody>\n",
       "    <tr>\n",
       "      <th>0</th>\n",
       "      <td>Atuona</td>\n",
       "      <td>-9.80</td>\n",
       "      <td>-139.03</td>\n",
       "      <td>79.790</td>\n",
       "      <td>78</td>\n",
       "      <td>5</td>\n",
       "      <td>7.89</td>\n",
       "      <td>PF</td>\n",
       "      <td>1595094277</td>\n",
       "    </tr>\n",
       "    <tr>\n",
       "      <th>1</th>\n",
       "      <td>Bintulu</td>\n",
       "      <td>3.17</td>\n",
       "      <td>113.03</td>\n",
       "      <td>79.070</td>\n",
       "      <td>94</td>\n",
       "      <td>20</td>\n",
       "      <td>1.50</td>\n",
       "      <td>MY</td>\n",
       "      <td>1595094277</td>\n",
       "    </tr>\n",
       "    <tr>\n",
       "      <th>2</th>\n",
       "      <td>Ushuaia</td>\n",
       "      <td>-54.80</td>\n",
       "      <td>-68.30</td>\n",
       "      <td>32.270</td>\n",
       "      <td>93</td>\n",
       "      <td>75</td>\n",
       "      <td>2.10</td>\n",
       "      <td>AR</td>\n",
       "      <td>1595094153</td>\n",
       "    </tr>\n",
       "    <tr>\n",
       "      <th>3</th>\n",
       "      <td>Sinnamary</td>\n",
       "      <td>5.38</td>\n",
       "      <td>-52.95</td>\n",
       "      <td>83.624</td>\n",
       "      <td>77</td>\n",
       "      <td>22</td>\n",
       "      <td>4.69</td>\n",
       "      <td>GF</td>\n",
       "      <td>1595094277</td>\n",
       "    </tr>\n",
       "    <tr>\n",
       "      <th>4</th>\n",
       "      <td>Longyearbyen</td>\n",
       "      <td>78.22</td>\n",
       "      <td>15.64</td>\n",
       "      <td>50.270</td>\n",
       "      <td>61</td>\n",
       "      <td>75</td>\n",
       "      <td>7.20</td>\n",
       "      <td>SJ</td>\n",
       "      <td>1595094121</td>\n",
       "    </tr>\n",
       "  </tbody>\n",
       "</table>\n",
       "</div>"
      ],
      "text/plain": [
       "           City    Lat     Lng  Max Temp  Humidity  Cloudiness  Wind Speed  \\\n",
       "0        Atuona  -9.80 -139.03    79.790        78           5        7.89   \n",
       "1       Bintulu   3.17  113.03    79.070        94          20        1.50   \n",
       "2       Ushuaia -54.80  -68.30    32.270        93          75        2.10   \n",
       "3     Sinnamary   5.38  -52.95    83.624        77          22        4.69   \n",
       "4  Longyearbyen  78.22   15.64    50.270        61          75        7.20   \n",
       "\n",
       "  Country        Date  \n",
       "0      PF  1595094277  \n",
       "1      MY  1595094277  \n",
       "2      AR  1595094153  \n",
       "3      GF  1595094277  \n",
       "4      SJ  1595094121  "
      ]
     },
     "execution_count": 8,
     "metadata": {},
     "output_type": "execute_result"
    }
   ],
   "source": [
    "#Convert Temp Kelvin to Farhenhite\n",
    "City_Weather_df[\"Max Temp\"]=(9/5)*(City_Weather_df[\"Max Temp\"]-273)+32\n",
    "City_Weather_df.head()\n"
   ]
  },
  {
   "cell_type": "markdown",
   "metadata": {},
   "source": [
    "## Inspect the data and remove the cities where the humidity > 100%.\n",
    "----\n",
    "Skip this step if there are no cities that have humidity > 100%. "
   ]
  },
  {
   "cell_type": "code",
   "execution_count": 10,
   "metadata": {},
   "outputs": [
    {
     "data": {
      "text/html": [
       "<div>\n",
       "<style scoped>\n",
       "    .dataframe tbody tr th:only-of-type {\n",
       "        vertical-align: middle;\n",
       "    }\n",
       "\n",
       "    .dataframe tbody tr th {\n",
       "        vertical-align: top;\n",
       "    }\n",
       "\n",
       "    .dataframe thead th {\n",
       "        text-align: right;\n",
       "    }\n",
       "</style>\n",
       "<table border=\"1\" class=\"dataframe\">\n",
       "  <thead>\n",
       "    <tr style=\"text-align: right;\">\n",
       "      <th></th>\n",
       "      <th>City</th>\n",
       "      <th>Lat</th>\n",
       "      <th>Lng</th>\n",
       "      <th>Max Temp</th>\n",
       "      <th>Humidity</th>\n",
       "      <th>Cloudiness</th>\n",
       "      <th>Wind Speed</th>\n",
       "      <th>Country</th>\n",
       "      <th>Date</th>\n",
       "    </tr>\n",
       "  </thead>\n",
       "  <tbody>\n",
       "    <tr>\n",
       "      <th>0</th>\n",
       "      <td>Atuona</td>\n",
       "      <td>-9.80</td>\n",
       "      <td>-139.03</td>\n",
       "      <td>79.790</td>\n",
       "      <td>78</td>\n",
       "      <td>5</td>\n",
       "      <td>7.89</td>\n",
       "      <td>PF</td>\n",
       "      <td>1595094277</td>\n",
       "    </tr>\n",
       "    <tr>\n",
       "      <th>1</th>\n",
       "      <td>Bintulu</td>\n",
       "      <td>3.17</td>\n",
       "      <td>113.03</td>\n",
       "      <td>79.070</td>\n",
       "      <td>94</td>\n",
       "      <td>20</td>\n",
       "      <td>1.50</td>\n",
       "      <td>MY</td>\n",
       "      <td>1595094277</td>\n",
       "    </tr>\n",
       "    <tr>\n",
       "      <th>2</th>\n",
       "      <td>Ushuaia</td>\n",
       "      <td>-54.80</td>\n",
       "      <td>-68.30</td>\n",
       "      <td>32.270</td>\n",
       "      <td>93</td>\n",
       "      <td>75</td>\n",
       "      <td>2.10</td>\n",
       "      <td>AR</td>\n",
       "      <td>1595094153</td>\n",
       "    </tr>\n",
       "    <tr>\n",
       "      <th>3</th>\n",
       "      <td>Sinnamary</td>\n",
       "      <td>5.38</td>\n",
       "      <td>-52.95</td>\n",
       "      <td>83.624</td>\n",
       "      <td>77</td>\n",
       "      <td>22</td>\n",
       "      <td>4.69</td>\n",
       "      <td>GF</td>\n",
       "      <td>1595094277</td>\n",
       "    </tr>\n",
       "    <tr>\n",
       "      <th>4</th>\n",
       "      <td>Longyearbyen</td>\n",
       "      <td>78.22</td>\n",
       "      <td>15.64</td>\n",
       "      <td>50.270</td>\n",
       "      <td>61</td>\n",
       "      <td>75</td>\n",
       "      <td>7.20</td>\n",
       "      <td>SJ</td>\n",
       "      <td>1595094121</td>\n",
       "    </tr>\n",
       "  </tbody>\n",
       "</table>\n",
       "</div>"
      ],
      "text/plain": [
       "           City    Lat     Lng  Max Temp  Humidity  Cloudiness  Wind Speed  \\\n",
       "0        Atuona  -9.80 -139.03    79.790        78           5        7.89   \n",
       "1       Bintulu   3.17  113.03    79.070        94          20        1.50   \n",
       "2       Ushuaia -54.80  -68.30    32.270        93          75        2.10   \n",
       "3     Sinnamary   5.38  -52.95    83.624        77          22        4.69   \n",
       "4  Longyearbyen  78.22   15.64    50.270        61          75        7.20   \n",
       "\n",
       "  Country        Date  \n",
       "0      PF  1595094277  \n",
       "1      MY  1595094277  \n",
       "2      AR  1595094153  \n",
       "3      GF  1595094277  \n",
       "4      SJ  1595094121  "
      ]
     },
     "execution_count": 10,
     "metadata": {},
     "output_type": "execute_result"
    }
   ],
   "source": [
    "# To find the City and drop where Humidity >100\n",
    "City_Weather_df.loc[City_Weather_df[\"Humidity\"] >100].groupby(\"City\")\n",
    "City_Weather_df.head()"
   ]
  },
  {
   "cell_type": "code",
   "execution_count": 11,
   "metadata": {},
   "outputs": [
    {
     "name": "stdout",
     "output_type": "stream",
     "text": [
      "There is no city where Humidity >100.[78, 94, 93, 77, 61, 34, 92, 60, 89, 80, 28, 70, 77, 38, 52, 64, 71, 62, 93, 91, 72, 94, 72, 100, 69, 62, 83, 100, 80, 26, 64, 94, 83, 77, 80, 54, 94, 82, 88, 80, 83, 94, 77, 85, 25, 70, 48, 100, 89, 89, 71, 72, 90, 87, 35, 64, 82, 83, 52, 50, 46, 29, 81, 48, 44, 80, 14, 87, 63, 82, 37, 33, 57, 24, 65, 57, 58, 20, 82, 94, 64, 93, 77, 93, 96, 73, 56, 65, 78, 94, 62, 46, 95, 91, 87, 88, 25, 38, 81, 93, 74, 82, 67, 31, 60, 52, 67, 43, 47, 82, 100, 96, 71, 72, 16, 87, 85, 81, 95, 68, 89, 100, 71, 87, 71, 58, 90, 23, 88, 60, 27, 98, 77, 74, 46, 84, 31, 83, 80, 82, 87, 68, 28, 15, 85, 76, 82, 93, 55, 28, 77, 10, 89, 90, 80, 60, 72, 67, 38, 82, 20, 71, 40, 80, 61, 76, 78, 64, 53, 75, 100, 45, 93, 74, 83, 66, 49, 93, 66, 83, 16, 56, 96, 44, 82, 62, 78, 47, 68, 96, 90, 94, 100, 94, 84, 44, 45, 95, 71, 72, 75, 48, 74, 75, 49, 59, 40, 97, 35, 90, 93, 88, 81, 11, 94, 86, 72, 73, 76, 91, 22, 57, 95, 87, 70, 90, 92, 34, 73, 72, 96, 80, 37, 94, 74, 74, 91, 67, 42, 69, 93, 35, 83, 83, 100, 39, 72, 77, 72, 79, 78, 50, 94, 97, 74, 82, 49, 16, 84, 70, 90, 64, 54, 87, 82, 93, 74, 56, 28, 53, 25, 70, 72, 83, 35, 72, 73, 84, 42, 64, 100, 61, 65, 81, 62, 41, 36, 81, 32, 73, 42, 80, 66, 82, 90, 93, 29, 63, 47, 29, 50, 51, 67, 85, 88, 94, 49, 82, 59, 81, 52, 57, 64, 70, 34, 52, 89, 57, 26, 66, 81, 66, 39, 86, 93, 93, 94, 96, 18, 54, 97, 62, 77, 51, 82, 12, 93, 82, 52, 93, 73, 97, 39, 64, 88, 65, 94, 88, 72, 69, 94, 83, 39, 72, 77, 78, 74, 72, 83, 85, 46, 16, 92, 69, 85, 55, 32, 52, 62, 86, 57, 76, 51, 63, 91, 37, 43, 85, 85, 28, 82, 86, 54, 94, 76, 59, 68, 60, 34, 31, 83, 66, 41, 88, 75, 69, 58, 65, 71, 33, 62, 71, 87, 22, 42, 62, 79, 20, 25, 93, 86, 32, 93, 74, 74, 71, 83, 100, 46, 37, 86, 95, 62, 79, 74, 94, 29, 75, 15, 76, 21, 93, 51, 83, 75, 80, 69, 69, 93, 93, 60, 48, 90, 45, 83, 12, 62, 83, 74, 86, 18, 23, 69, 67, 61, 31, 73, 57, 63, 86, 55, 70, 93, 72, 53, 99, 97, 80, 63, 62, 53, 97, 35, 58, 32, 40, 74, 21, 83, 84, 66, 75, 70, 87, 57, 100, 88, 90, 100, 51, 38, 11, 65, 69, 83, 70, 47, 99, 70, 43, 37, 14, 78, 92, 87, 91, 55, 82, 100, 97, 78, 25, 61, 88, 58, 64, 78, 83, 14, 87, 64, 15, 82, 80, 52, 86, 55, 88, 16, 53, 32, 93, 65, 77, 86, 32, 84, 86, 71, 61, 79, 28, 38, 74, 32, 92, 75, 57, 62, 61, 56, 45, 69, 100, 65, 80, 34, 57, 48]\n"
     ]
    }
   ],
   "source": [
    "#  Get the indices of cities that have humidity over 100%.\n",
    "print(f\"There is no city where Humidity >100.{Humidity}\")"
   ]
  },
  {
   "cell_type": "code",
   "execution_count": 12,
   "metadata": {},
   "outputs": [
    {
     "data": {
      "text/html": [
       "<div>\n",
       "<style scoped>\n",
       "    .dataframe tbody tr th:only-of-type {\n",
       "        vertical-align: middle;\n",
       "    }\n",
       "\n",
       "    .dataframe tbody tr th {\n",
       "        vertical-align: top;\n",
       "    }\n",
       "\n",
       "    .dataframe thead th {\n",
       "        text-align: right;\n",
       "    }\n",
       "</style>\n",
       "<table border=\"1\" class=\"dataframe\">\n",
       "  <thead>\n",
       "    <tr style=\"text-align: right;\">\n",
       "      <th></th>\n",
       "      <th>City</th>\n",
       "      <th>Lat</th>\n",
       "      <th>Lng</th>\n",
       "      <th>Max Temp</th>\n",
       "      <th>Humidity</th>\n",
       "      <th>Cloudiness</th>\n",
       "      <th>Wind Speed</th>\n",
       "      <th>Country</th>\n",
       "      <th>Date</th>\n",
       "    </tr>\n",
       "  </thead>\n",
       "  <tbody>\n",
       "    <tr>\n",
       "      <th>0</th>\n",
       "      <td>Atuona</td>\n",
       "      <td>-9.80</td>\n",
       "      <td>-139.03</td>\n",
       "      <td>79.790</td>\n",
       "      <td>78</td>\n",
       "      <td>5</td>\n",
       "      <td>7.89</td>\n",
       "      <td>PF</td>\n",
       "      <td>1595094277</td>\n",
       "    </tr>\n",
       "    <tr>\n",
       "      <th>1</th>\n",
       "      <td>Bintulu</td>\n",
       "      <td>3.17</td>\n",
       "      <td>113.03</td>\n",
       "      <td>79.070</td>\n",
       "      <td>94</td>\n",
       "      <td>20</td>\n",
       "      <td>1.50</td>\n",
       "      <td>MY</td>\n",
       "      <td>1595094277</td>\n",
       "    </tr>\n",
       "    <tr>\n",
       "      <th>2</th>\n",
       "      <td>Ushuaia</td>\n",
       "      <td>-54.80</td>\n",
       "      <td>-68.30</td>\n",
       "      <td>32.270</td>\n",
       "      <td>93</td>\n",
       "      <td>75</td>\n",
       "      <td>2.10</td>\n",
       "      <td>AR</td>\n",
       "      <td>1595094153</td>\n",
       "    </tr>\n",
       "    <tr>\n",
       "      <th>3</th>\n",
       "      <td>Sinnamary</td>\n",
       "      <td>5.38</td>\n",
       "      <td>-52.95</td>\n",
       "      <td>83.624</td>\n",
       "      <td>77</td>\n",
       "      <td>22</td>\n",
       "      <td>4.69</td>\n",
       "      <td>GF</td>\n",
       "      <td>1595094277</td>\n",
       "    </tr>\n",
       "    <tr>\n",
       "      <th>4</th>\n",
       "      <td>Longyearbyen</td>\n",
       "      <td>78.22</td>\n",
       "      <td>15.64</td>\n",
       "      <td>50.270</td>\n",
       "      <td>61</td>\n",
       "      <td>75</td>\n",
       "      <td>7.20</td>\n",
       "      <td>SJ</td>\n",
       "      <td>1595094121</td>\n",
       "    </tr>\n",
       "  </tbody>\n",
       "</table>\n",
       "</div>"
      ],
      "text/plain": [
       "           City    Lat     Lng  Max Temp  Humidity  Cloudiness  Wind Speed  \\\n",
       "0        Atuona  -9.80 -139.03    79.790        78           5        7.89   \n",
       "1       Bintulu   3.17  113.03    79.070        94          20        1.50   \n",
       "2       Ushuaia -54.80  -68.30    32.270        93          75        2.10   \n",
       "3     Sinnamary   5.38  -52.95    83.624        77          22        4.69   \n",
       "4  Longyearbyen  78.22   15.64    50.270        61          75        7.20   \n",
       "\n",
       "  Country        Date  \n",
       "0      PF  1595094277  \n",
       "1      MY  1595094277  \n",
       "2      AR  1595094153  \n",
       "3      GF  1595094277  \n",
       "4      SJ  1595094121  "
      ]
     },
     "execution_count": 12,
     "metadata": {},
     "output_type": "execute_result"
    }
   ],
   "source": [
    "# Make a new DataFrame equal to the city data to drop all humidity outliers by index.\n",
    "# Passing \"inplace=False\" will make a copy of the city_data DataFrame, which we call \"clean_city_data\".\n",
    "Weather_df=City_Weather_df\n",
    "Weather_df.head()"
   ]
  },
  {
   "cell_type": "code",
   "execution_count": 13,
   "metadata": {},
   "outputs": [],
   "source": [
    "# Extract relevant fields from the data frame\n",
    "\n",
    "# Export the City_Data into a csv\n",
    "Weather_df.to_csv(\"Output_CSV/Clean_City_data.csv\")"
   ]
  },
  {
   "cell_type": "markdown",
   "metadata": {},
   "source": [
    "## Plotting the Data\n",
    "* Use proper labeling of the plots using plot titles (including date of analysis) and axes labels.\n",
    "* Save the plotted figures as .pngs."
   ]
  },
  {
   "cell_type": "markdown",
   "metadata": {},
   "source": [
    "## Latitude vs. Temperature Plot"
   ]
  },
  {
   "cell_type": "code",
   "execution_count": 14,
   "metadata": {
    "scrolled": true
   },
   "outputs": [
    {
     "data": {
      "image/png": "[encoded data removed]",
      "text/plain": [
       "<Figure size 432x288 with 1 Axes>"
      ]
     },
     "metadata": {
      "needs_background": "light"
     },
     "output_type": "display_data"
    }
   ],
   "source": [
    "#To Create a Scatter plot Latitute vs Temperature\n",
    "plt.scatter(Weather_df[\"Lat\"],Weather_df[\"Max Temp\"], marker=\"o\", edgecolor=\"black\", facecolor=\"blue\")\n",
    "# crate labeling\n",
    "plt.title(\"City Latitude vs. Max Temperature\")\n",
    "plt.ylabel(\"Max. Temperature (F)\")\n",
    "plt.xlabel(\"Latitude\")\n",
    "plt.grid(True)\n",
    "\n",
    "# Save the figure\n",
    "plt.savefig(\"Output_Plots/Temp_vs_Latitude.png\")\n",
    "\n",
    "# Show plot\n",
    "plt.show()"
   ]
  },
  {
   "cell_type": "markdown",
   "metadata": {},
   "source": [
    "## Latitude vs. Humidity Plot"
   ]
  },
  {
   "cell_type": "code",
   "execution_count": 15,
   "metadata": {},
   "outputs": [
    {
     "data": {
      "image/png": "[encoded data removed]",
      "text/plain": [
       "<Figure size 432x288 with 1 Axes>"
      ]
     },
     "metadata": {
      "needs_background": "light"
     },
     "output_type": "display_data"
    }
   ],
   "source": [
    "#To Create a Scatter plot Latitute vs Humidity\n",
    "plt.scatter(Weather_df[\"Lat\"],Weather_df[\"Humidity\"], marker=\"o\", edgecolor=\"black\", facecolor=\"blue\")\n",
    "# crate labeling\n",
    "plt.title(\"City Latitude vs. Humidity (07/15/2020)\")\n",
    "plt.ylabel(\"Humidity (%)\")\n",
    "plt.xlabel(\"Latitude\")\n",
    "plt.grid(True)\n",
    "\n",
    "# Save the figure\n",
    "plt.savefig(\"Output_Plots/Temp_vs_Humidity.png\")\n",
    "\n",
    "# Show plot\n",
    "plt.show()"
   ]
  },
  {
   "cell_type": "markdown",
   "metadata": {},
   "source": [
    "## Latitude vs. Cloudiness Plot"
   ]
  },
  {
   "cell_type": "code",
   "execution_count": 16,
   "metadata": {},
   "outputs": [
    {
     "data": {
      "image/png": "[encoded data removed]",
      "text/plain": [
       "<Figure size 432x288 with 1 Axes>"
      ]
     },
     "metadata": {
      "needs_background": "light"
     },
     "output_type": "display_data"
    }
   ],
   "source": [
    "#To Create a Scatter plot Latitute vs Cloudiness\n",
    "plt.scatter(Weather_df[\"Lat\"],Weather_df[\"Cloudiness\"], marker=\"o\", edgecolor=\"black\", facecolor=\"blue\")\n",
    "# Crate labeling\n",
    "plt.title(\"City Latitude vs. Cloudiness (07/15/2020)\")\n",
    "plt.ylabel(\"Cloudiness (%)\")\n",
    "plt.xlabel(\"Latitude\")\n",
    "plt.grid(True)\n",
    "\n",
    "# Save the figure\n",
    "plt.savefig(\"Output_Plots/Temp_vs_Cloudiness.png\")\n",
    "\n",
    "# Show plot\n",
    "plt.show()"
   ]
  },
  {
   "cell_type": "markdown",
   "metadata": {},
   "source": [
    "## Latitude vs. Wind Speed Plot"
   ]
  },
  {
   "cell_type": "code",
   "execution_count": 17,
   "metadata": {},
   "outputs": [
    {
     "data": {
      "image/png": "[encoded data removed]",
      "text/plain": [
       "<Figure size 432x288 with 1 Axes>"
      ]
     },
     "metadata": {
      "needs_background": "light"
     },
     "output_type": "display_data"
    }
   ],
   "source": [
    "#To Create a Scatter plot Latitute vs Wind Speed\n",
    "plt.scatter(Weather_df[\"Lat\"],Weather_df[\"Wind Speed\"], marker=\"o\", edgecolor=\"black\", facecolor=\"blue\")\n",
    "# Crate labeling\n",
    "plt.title(\"City Latitude vs. Wind Speed (07/15/2020)\")\n",
    "plt.ylabel(\"Wind Speed (mph)\")\n",
    "plt.xlabel(\"Latitude\")\n",
    "plt.grid(True)\n",
    "\n",
    "# Save the figure\n",
    "plt.savefig(\"Output_Plots/Temp_vs_Wind Speed.png\")\n",
    "\n",
    "# Show plot\n",
    "plt.show()"
   ]
  },
  {
   "cell_type": "markdown",
   "metadata": {},
   "source": [
    "## Linear Regression"
   ]
  },
  {
   "cell_type": "code",
   "execution_count": null,
   "metadata": {},
   "outputs": [],
   "source": [
    "# OPTIONAL:\n"
   ]
  },
  {
   "cell_type": "code",
   "execution_count": 18,
   "metadata": {},
   "outputs": [],
   "source": [
    "# Create DataFrame for Northern and Southern Hemisphere\n",
    "Northern_Hemisphere = Weather_df.loc[Weather_df[\"Lat\"] >= 0]\n",
    "Northern_Hemisphere.reset_index(inplace=True)\n",
    "\n",
    "Southern_Hemisphere = Weather_df.loc[Weather_df[\"Lat\"] < 0]\n",
    "Southern_Hemisphere.reset_index(inplace=True)\n",
    "\n",
    "\n",
    "\n",
    "# Create a function to create Linear Regression plots\n",
    "def linear_agression(x,y):\n",
    "    (slope, intercept, rvalue, pvalue, stderr) = linregress(x, y)\n",
    "    regress_values = x * slope + intercept\n",
    "    line_eq = \"y = \" + str(round(slope,2)) + \"x + \" + str(round(intercept,2))\n",
    "    plt.scatter(x, y)\n",
    "    plt.plot(x,regress_values,\"r-\")\n",
    "    print(f\"The r-squared is : {rvalue**2}\")\n",
    "    return line_eq\n",
    "\n",
    "# Define a fuction for annotating\n",
    "def annotate(line_eq, a, b):\n",
    "    plt.annotate(line_eq,(a,b),fontsize=15,color=\"red\")\n"
   ]
  },
  {
   "cell_type": "markdown",
   "metadata": {},
   "source": [
    "####  Northern Hemisphere - Max Temp vs. Latitude Linear Regression"
   ]
  },
  {
   "cell_type": "code",
   "execution_count": 19,
   "metadata": {},
   "outputs": [
    {
     "name": "stdout",
     "output_type": "stream",
     "text": [
      "The r-squared is : 0.4859299012022301\n"
     ]
    },
    {
     "data": {
      "image/png": "[encoded data removed]",
      "text/plain": [
       "<Figure size 432x288 with 1 Axes>"
      ]
     },
     "metadata": {
      "needs_background": "light"
     },
     "output_type": "display_data"
    }
   ],
   "source": [
    "#Northern Hemisphere - Max Temp vs. Latitude Linear Regression\n",
    "NH_equation=linear_agression(Northern_Hemisphere[\"Lat\"],Northern_Hemisphere[\"Max Temp\"])\n",
    "annotation=(NH_equation, 0, 0)\n",
    "#Create Title & Label\n",
    "plt.title(\"Northern Hemisphere - Max Temp vs. Latitude Linear Regression\")\n",
    "plt.xlabel(\"Latitude\")\n",
    "plt.ylabel(\"Max Temp (F)\")\n",
    "\n",
    "# Save the figure\n",
    "plt.savefig(\"Output_Plots/NH_Max_Temp_vs_Lat_L_Regression.png\")"
   ]
  },
  {
   "cell_type": "markdown",
   "metadata": {},
   "source": [
    "####  Southern Hemisphere - Max Temp vs. Latitude Linear Regression"
   ]
  },
  {
   "cell_type": "code",
   "execution_count": 20,
   "metadata": {},
   "outputs": [
    {
     "name": "stdout",
     "output_type": "stream",
     "text": [
      "The r-squared is : 0.5660583899002212\n"
     ]
    },
    {
     "data": {
      "image/png": "[encoded data removed]",
      "text/plain": [
       "<Figure size 432x288 with 1 Axes>"
      ]
     },
     "metadata": {
      "needs_background": "light"
     },
     "output_type": "display_data"
    }
   ],
   "source": [
    "#Southern Hemisphere - Max Temp vs. Latitude Linear Regression\n",
    "SH_equation=linear_agression(Southern_Hemisphere[\"Lat\"],Southern_Hemisphere[\"Max Temp\"])\n",
    "annotation=(SH_equation, 0, 0)\n",
    "#Create Title & Label\n",
    "plt.title(\"Southern Hemisphere - Max Temp vs. Latitude Linear Regression\")\n",
    "plt.xlabel(\"Latitude\")\n",
    "plt.ylabel(\"Max Temp (F)\")\n",
    "\n",
    "# Save the figure\n",
    "plt.savefig(\"Output_Plots/SH_Max_Temp_vs_Lat_L_Regression.png\")"
   ]
  },
  {
   "cell_type": "markdown",
   "metadata": {},
   "source": [
    "####  Northern Hemisphere - Humidity (%) vs. Latitude Linear Regression"
   ]
  },
  {
   "cell_type": "code",
   "execution_count": 21,
   "metadata": {},
   "outputs": [
    {
     "name": "stdout",
     "output_type": "stream",
     "text": [
      "The r-squared is : 0.01097742760380723\n"
     ]
    },
    {
     "data": {
      "image/png": "[encoded data removed]",
      "text/plain": [
       "<Figure size 432x288 with 1 Axes>"
      ]
     },
     "metadata": {
      "needs_background": "light"
     },
     "output_type": "display_data"
    }
   ],
   "source": [
    "#Northern Hemisphere - Humidity (%) vs. Latitude Linear Regression\n",
    "NH_equation=linear_agression(Northern_Hemisphere[\"Lat\"],Northern_Hemisphere[\"Humidity\"])\n",
    "annotation=(NH_equation, 0, 0)\n",
    "#Create Title & Label\n",
    "plt.title(\"Northern Hemisphere - Humidity (%) vs. Latitude Linear Regression\")\n",
    "plt.xlabel(\"Latitude\")\n",
    "plt.ylabel(\"Humidity\")\n",
    "\n",
    "# Save the figure\n",
    "plt.savefig(\"Output_Plots/NH_Humidity_vs_Lat_L_Regression.png\")"
   ]
  },
  {
   "cell_type": "markdown",
   "metadata": {},
   "source": [
    "####  Southern Hemisphere - Humidity (%) vs. Latitude Linear Regression"
   ]
  },
  {
   "cell_type": "code",
   "execution_count": 22,
   "metadata": {},
   "outputs": [
    {
     "name": "stdout",
     "output_type": "stream",
     "text": [
      "The r-squared is : 0.0830196641314479\n"
     ]
    },
    {
     "data": {
      "image/png": "[encoded data removed]",
      "text/plain": [
       "<Figure size 432x288 with 1 Axes>"
      ]
     },
     "metadata": {
      "needs_background": "light"
     },
     "output_type": "display_data"
    }
   ],
   "source": [
    "#Southern Hemisphere - Humidity vs. Latitude Linear Regression\n",
    "SH_equation=linear_agression(Southern_Hemisphere[\"Lat\"],Southern_Hemisphere[\"Humidity\"])\n",
    "annotation=(SH_equation, 0, 0)\n",
    "#Create Title & Label\n",
    "plt.title(\"Southern Hemisphere - Humidity vs. Latitude Linear Regression\")\n",
    "plt.xlabel(\"Latitude\")\n",
    "plt.ylabel(\"Humidity\")\n",
    "\n",
    "# Save the figure\n",
    "plt.savefig(\"Output_Plots/SH_Humidy_vs_Lat_L_Regression.png\")"
   ]
  },
  {
   "cell_type": "markdown",
   "metadata": {},
   "source": [
    "####  Northern Hemisphere - Cloudiness (%) vs. Latitude Linear Regression"
   ]
  },
  {
   "cell_type": "code",
   "execution_count": 23,
   "metadata": {},
   "outputs": [
    {
     "name": "stdout",
     "output_type": "stream",
     "text": [
      "The r-squared is : 0.0018790629133230755\n"
     ]
    },
    {
     "data": {
      "image/png": "[encoded data removed]",
      "text/plain": [
       "<Figure size 432x288 with 1 Axes>"
      ]
     },
     "metadata": {
      "needs_background": "light"
     },
     "output_type": "display_data"
    }
   ],
   "source": [
    "#Northern Hemisphere - Cloudiness (%) vs. Latitude Linear Regression\n",
    "NH_equation=linear_agression(Northern_Hemisphere[\"Lat\"],Northern_Hemisphere[\"Cloudiness\"])\n",
    "annotation=(NH_equation, 0, 0)\n",
    "#Create Title & Label\n",
    "plt.title(\"Northern Hemisphere - Cloudiness (%) vs. Latitude Linear Regression\")\n",
    "plt.xlabel(\"Latitude\")\n",
    "plt.ylabel(\"Cloudiness (%)\")\n",
    "\n",
    "# Save the figure\n",
    "plt.savefig(\"Output_Plots/NH_Cloudiness_vs_Lat_L_Regression.png\")"
   ]
  },
  {
   "cell_type": "markdown",
   "metadata": {},
   "source": [
    "####  Southern Hemisphere - Cloudiness (%) vs. Latitude Linear Regression"
   ]
  },
  {
   "cell_type": "code",
   "execution_count": 24,
   "metadata": {},
   "outputs": [
    {
     "name": "stdout",
     "output_type": "stream",
     "text": [
      "The r-squared is : 0.0013944557787421686\n"
     ]
    },
    {
     "data": {
      "image/png": "[encoded data removed]",
      "text/plain": [
       "<Figure size 432x288 with 1 Axes>"
      ]
     },
     "metadata": {
      "needs_background": "light"
     },
     "output_type": "display_data"
    }
   ],
   "source": [
    "#Southern Hemisphere - Cloudiness (%) vs. Latitude Linear Regression\n",
    "SH_equation=linear_agression(Southern_Hemisphere[\"Lat\"],Southern_Hemisphere[\"Cloudiness\"])\n",
    "annotation=(SH_equation, 0, 0)\n",
    "#Create Title & Label\n",
    "plt.title(\"Southern Hemisphere - Cloudiness (%) vs. Latitude Linear Regression\")\n",
    "plt.xlabel(\"Latitude\")\n",
    "plt.ylabel(\"Cloudiness (%)\")\n",
    "\n",
    "# Save the figure\n",
    "plt.savefig(\"Output_Plots/SH_Cloudiness_vs_Lat_L_Regression.png\")"
   ]
  },
  {
   "cell_type": "markdown",
   "metadata": {},
   "source": [
    "####  Northern Hemisphere - Wind Speed (mph) vs. Latitude Linear Regression"
   ]
  },
  {
   "cell_type": "code",
   "execution_count": 25,
   "metadata": {},
   "outputs": [
    {
     "name": "stdout",
     "output_type": "stream",
     "text": [
      "The r-squared is : 0.000423066984607933\n"
     ]
    },
    {
     "data": {
      "image/png": "[encoded data removed]",
      "text/plain": [
       "<Figure size 432x288 with 1 Axes>"
      ]
     },
     "metadata": {
      "needs_background": "light"
     },
     "output_type": "display_data"
    }
   ],
   "source": [
    "#Northern Hemisphere - Wind Speed (mph) vs. Latitude Linear Regression\n",
    "NH_equation=linear_agression(Northern_Hemisphere[\"Lat\"],Northern_Hemisphere[\"Wind Speed\"])\n",
    "annotation=(NH_equation, 0, 0)\n",
    "#Create Title & Label\n",
    "plt.title(\"Northern Hemisphere - Wind Speed vs. Latitude Linear Regression\")\n",
    "plt.xlabel(\"Latitude\")\n",
    "plt.ylabel(\"Wind Speed\")\n",
    "\n",
    "# Save the figure\n",
    "plt.savefig(\"Output_Plots/NH_Wind_Speed_vs_Lat_L_Regression.png\")"
   ]
  },
  {
   "cell_type": "markdown",
   "metadata": {},
   "source": [
    "####  Southern Hemisphere - Wind Speed (mph) vs. Latitude Linear Regression"
   ]
  },
  {
   "cell_type": "code",
   "execution_count": 26,
   "metadata": {},
   "outputs": [
    {
     "name": "stdout",
     "output_type": "stream",
     "text": [
      "The r-squared is : 0.0022425272745827717\n"
     ]
    },
    {
     "data": {
      "image/png": "[encoded data removed]",
      "text/plain": [
       "<Figure size 432x288 with 1 Axes>"
      ]
     },
     "metadata": {
      "needs_background": "light"
     },
     "output_type": "display_data"
    }
   ],
   "source": [
    "#Southern Hemisphere - Wind Speed (mph) vs. Latitude Linear Regression\n",
    "SH_equation=linear_agression(Southern_Hemisphere[\"Lat\"],Southern_Hemisphere[\"Wind Speed\"])\n",
    "annotation=(SH_equation, 0, 0)\n",
    "#Create Title & Label\n",
    "plt.title(\"Southern Hemisphere - Wind Speed (mph) vs. Latitude Linear Regression\")\n",
    "plt.xlabel(\"Latitude\")\n",
    "plt.ylabel(\"Wind Speed\")\n",
    "\n",
    "# Save the figure\n",
    "plt.savefig(\"Output_Plots/SH_Wind_Speed_vs_Lat_L_Regression.png\")"
   ]
  },
  {
   "cell_type": "code",
   "execution_count": null,
   "metadata": {},
   "outputs": [],
   "source": []
  }
 ],
 "metadata": {
  "anaconda-cloud": {},
  "kernel_info": {
   "name": "python3"
  },
  "kernelspec": {
   "display_name": "Python 3",
   "language": "python",
   "name": "python3"
  },
  "language_info": {
   "codemirror_mode": {
    "name": "ipython",
    "version": 3
   },
   "file_extension": ".py",
   "mimetype": "text/x-python",
   "name": "python",
   "nbconvert_exporter": "python",
   "pygments_lexer": "ipython3",
   "version": "3.7.6"
  },
  "latex_envs": {
   "LaTeX_envs_menu_present": true,
   "autoclose": false,
   "autocomplete": true,
   "bibliofile": "biblio.bib",
   "cite_by": "apalike",
   "current_citInitial": 1,
   "eqLabelWithNumbers": true,
   "eqNumInitial": 1,
   "hotkeys": {
    "equation": "Ctrl-E",
    "itemize": "Ctrl-I"
   },
   "labels_anchors": false,
   "latex_user_defs": false,
   "report_style_numbering": false,
   "user_envs_cfg": false
  },
  "nteract": {
   "version": "0.12.3"
  }
 },
 "nbformat": 4,
 "nbformat_minor": 2
}
